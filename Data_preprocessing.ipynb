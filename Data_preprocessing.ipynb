{
  "nbformat": 4,
  "nbformat_minor": 0,
  "metadata": {
    "colab": {
      "name": "Data_preprocessing.ipynb",
      "provenance": [],
      "collapsed_sections": []
    },
    "kernelspec": {
      "name": "python3",
      "display_name": "Python 3"
    },
    "language_info": {
      "name": "python"
    }
  },
  "cells": [
    {
      "cell_type": "code",
      "metadata": {
        "colab": {
          "base_uri": "https://localhost:8080/"
        },
        "id": "45bQEZ-wKLpo",
        "outputId": "8cb17f35-7c29-49fb-9a5e-19f23f5470b8"
      },
      "source": [
        "#Mounting the Google drive\n",
        "from google.colab import drive\n",
        "drive.mount('/content/gdrive')"
      ],
      "execution_count": 1,
      "outputs": [
        {
          "output_type": "stream",
          "text": [
            "Drive already mounted at /content/gdrive; to attempt to forcibly remount, call drive.mount(\"/content/gdrive\", force_remount=True).\n"
          ],
          "name": "stdout"
        }
      ]
    },
    {
      "cell_type": "code",
      "metadata": {
        "colab": {
          "base_uri": "https://localhost:8080/"
        },
        "id": "-TbDvZtMIsX8",
        "outputId": "ef5cc51f-2fd4-43bb-84bc-ff72c4e58348"
      },
      "source": [
        "#Changing working directory\n",
        "%cd /content/gdrive/My Drive/ML-in-colab/Sentiment_analysis_amazon_fine_food_review"
      ],
      "execution_count": 2,
      "outputs": [
        {
          "output_type": "stream",
          "text": [
            "/content/gdrive/My Drive/ML-in-colab/Sentiment_analysis_amazon_fine_food_review\n"
          ],
          "name": "stdout"
        }
      ]
    },
    {
      "cell_type": "code",
      "metadata": {
        "id": "HUnCclRcJMcM"
      },
      "source": [
        "import os\n",
        "os.environ['KAGGLE_CONFIG_DIR'] = \"/content/gdrive/My Drive/ML-in-colab\""
      ],
      "execution_count": 3,
      "outputs": []
    },
    {
      "cell_type": "code",
      "metadata": {
        "colab": {
          "base_uri": "https://localhost:8080/"
        },
        "id": "PQWzQlGYI8e-",
        "outputId": "f10b4bf0-d8c4-4dec-acb8-f448fe1ce24e"
      },
      "source": [
        "#downloading kaggle dataset\n",
        "!kaggle datasets download -d snap/amazon-fine-food-reviews -p data"
      ],
      "execution_count": 4,
      "outputs": [
        {
          "output_type": "stream",
          "text": [
            "Downloading amazon-fine-food-reviews.zip to data\n",
            " 97% 235M/242M [00:02<00:00, 98.0MB/s]\n",
            "100% 242M/242M [00:02<00:00, 89.6MB/s]\n"
          ],
          "name": "stdout"
        }
      ]
    },
    {
      "cell_type": "code",
      "metadata": {
        "colab": {
          "base_uri": "https://localhost:8080/"
        },
        "id": "6ukMdnwaJzjs",
        "outputId": "702bfc03-b836-47ae-df97-1ecc8bf70dc1"
      },
      "source": [
        "#we can check the content by ls command\n",
        "!ls data"
      ],
      "execution_count": 5,
      "outputs": [
        {
          "output_type": "stream",
          "text": [
            "amazon-fine-food-reviews.zip\n"
          ],
          "name": "stdout"
        }
      ]
    },
    {
      "cell_type": "code",
      "metadata": {
        "colab": {
          "base_uri": "https://localhost:8080/"
        },
        "id": "BQgK8zY8KQak",
        "outputId": "8d29e93c-57cd-4e56-c688-47793c9e0023"
      },
      "source": [
        "#Unziping the file into data folder\n",
        "!unzip data/\\*.zip -d data"
      ],
      "execution_count": 6,
      "outputs": [
        {
          "output_type": "stream",
          "text": [
            "Archive:  data/amazon-fine-food-reviews.zip\n",
            "  inflating: data/Reviews.csv        \n",
            "  inflating: data/database.sqlite    \n",
            "  inflating: data/hashes.txt         \n"
          ],
          "name": "stdout"
        }
      ]
    },
    {
      "cell_type": "code",
      "metadata": {
        "colab": {
          "base_uri": "https://localhost:8080/"
        },
        "id": "UqNRlh9MKz14",
        "outputId": "7d1df78d-b142-462b-89ea-5880d39f1d9e"
      },
      "source": [
        "#checking the file content\n",
        "!ls data"
      ],
      "execution_count": 7,
      "outputs": [
        {
          "output_type": "stream",
          "text": [
            "amazon-fine-food-reviews.zip  database.sqlite  hashes.txt  Reviews.csv\n"
          ],
          "name": "stdout"
        }
      ]
    },
    {
      "cell_type": "code",
      "metadata": {
        "id": "iV1GMTn5K6o8"
      },
      "source": [
        "#removing zip file from data folder\n",
        "!rm data/*.zip"
      ],
      "execution_count": 8,
      "outputs": []
    },
    {
      "cell_type": "code",
      "metadata": {
        "colab": {
          "base_uri": "https://localhost:8080/"
        },
        "id": "Cm8-l35fLIpk",
        "outputId": "5eea9889-cf14-40e3-f2bb-c3d7fabdc0b4"
      },
      "source": [
        "!ls data"
      ],
      "execution_count": 9,
      "outputs": [
        {
          "output_type": "stream",
          "text": [
            "database.sqlite  hashes.txt  Reviews.csv\n"
          ],
          "name": "stdout"
        }
      ]
    },
    {
      "cell_type": "code",
      "metadata": {
        "id": "r5gLsob7LUMU"
      },
      "source": [
        "#importing required libraries\n",
        "import pandas as pd\n",
        "import re\n",
        "from bs4 import BeautifulSoup\n",
        "import csv"
      ],
      "execution_count": 10,
      "outputs": []
    },
    {
      "cell_type": "code",
      "metadata": {
        "id": "J4BsIY3zPT_0"
      },
      "source": [
        "#Reading the file\n",
        "file = pd.read_csv('data/Reviews.csv')"
      ],
      "execution_count": 11,
      "outputs": []
    },
    {
      "cell_type": "code",
      "metadata": {
        "colab": {
          "base_uri": "https://localhost:8080/"
        },
        "id": "ADiNLr18DpGH",
        "outputId": "914171ff-38bc-4339-922c-be779ab8ab3c"
      },
      "source": [
        "#Checking the number of total reviews\n",
        "reviews = 0\n",
        "with open('data/Reviews.csv') as f:\n",
        "  reader = csv.reader(f)\n",
        "  for row in reader:\n",
        "    reviews +=1\n",
        "print(\"Total number of Reviews is: {}\".format(reviews))"
      ],
      "execution_count": 12,
      "outputs": [
        {
          "output_type": "stream",
          "text": [
            "Total number of Reviews is: 568455\n"
          ],
          "name": "stdout"
        }
      ]
    },
    {
      "cell_type": "code",
      "metadata": {
        "id": "im4WrsmBPm3N",
        "colab": {
          "base_uri": "https://localhost:8080/",
          "height": 410
        },
        "outputId": "c4fbfa8f-e8d6-488b-a828-7450e023f9c6"
      },
      "source": [
        "file.head()"
      ],
      "execution_count": 13,
      "outputs": [
        {
          "output_type": "execute_result",
          "data": {
            "text/html": [
              "<div>\n",
              "<style scoped>\n",
              "    .dataframe tbody tr th:only-of-type {\n",
              "        vertical-align: middle;\n",
              "    }\n",
              "\n",
              "    .dataframe tbody tr th {\n",
              "        vertical-align: top;\n",
              "    }\n",
              "\n",
              "    .dataframe thead th {\n",
              "        text-align: right;\n",
              "    }\n",
              "</style>\n",
              "<table border=\"1\" class=\"dataframe\">\n",
              "  <thead>\n",
              "    <tr style=\"text-align: right;\">\n",
              "      <th></th>\n",
              "      <th>Id</th>\n",
              "      <th>ProductId</th>\n",
              "      <th>UserId</th>\n",
              "      <th>ProfileName</th>\n",
              "      <th>HelpfulnessNumerator</th>\n",
              "      <th>HelpfulnessDenominator</th>\n",
              "      <th>Score</th>\n",
              "      <th>Time</th>\n",
              "      <th>Summary</th>\n",
              "      <th>Text</th>\n",
              "    </tr>\n",
              "  </thead>\n",
              "  <tbody>\n",
              "    <tr>\n",
              "      <th>0</th>\n",
              "      <td>1</td>\n",
              "      <td>B001E4KFG0</td>\n",
              "      <td>A3SGXH7AUHU8GW</td>\n",
              "      <td>delmartian</td>\n",
              "      <td>1</td>\n",
              "      <td>1</td>\n",
              "      <td>5</td>\n",
              "      <td>1303862400</td>\n",
              "      <td>Good Quality Dog Food</td>\n",
              "      <td>I have bought several of the Vitality canned d...</td>\n",
              "    </tr>\n",
              "    <tr>\n",
              "      <th>1</th>\n",
              "      <td>2</td>\n",
              "      <td>B00813GRG4</td>\n",
              "      <td>A1D87F6ZCVE5NK</td>\n",
              "      <td>dll pa</td>\n",
              "      <td>0</td>\n",
              "      <td>0</td>\n",
              "      <td>1</td>\n",
              "      <td>1346976000</td>\n",
              "      <td>Not as Advertised</td>\n",
              "      <td>Product arrived labeled as Jumbo Salted Peanut...</td>\n",
              "    </tr>\n",
              "    <tr>\n",
              "      <th>2</th>\n",
              "      <td>3</td>\n",
              "      <td>B000LQOCH0</td>\n",
              "      <td>ABXLMWJIXXAIN</td>\n",
              "      <td>Natalia Corres \"Natalia Corres\"</td>\n",
              "      <td>1</td>\n",
              "      <td>1</td>\n",
              "      <td>4</td>\n",
              "      <td>1219017600</td>\n",
              "      <td>\"Delight\" says it all</td>\n",
              "      <td>This is a confection that has been around a fe...</td>\n",
              "    </tr>\n",
              "    <tr>\n",
              "      <th>3</th>\n",
              "      <td>4</td>\n",
              "      <td>B000UA0QIQ</td>\n",
              "      <td>A395BORC6FGVXV</td>\n",
              "      <td>Karl</td>\n",
              "      <td>3</td>\n",
              "      <td>3</td>\n",
              "      <td>2</td>\n",
              "      <td>1307923200</td>\n",
              "      <td>Cough Medicine</td>\n",
              "      <td>If you are looking for the secret ingredient i...</td>\n",
              "    </tr>\n",
              "    <tr>\n",
              "      <th>4</th>\n",
              "      <td>5</td>\n",
              "      <td>B006K2ZZ7K</td>\n",
              "      <td>A1UQRSCLF8GW1T</td>\n",
              "      <td>Michael D. Bigham \"M. Wassir\"</td>\n",
              "      <td>0</td>\n",
              "      <td>0</td>\n",
              "      <td>5</td>\n",
              "      <td>1350777600</td>\n",
              "      <td>Great taffy</td>\n",
              "      <td>Great taffy at a great price.  There was a wid...</td>\n",
              "    </tr>\n",
              "  </tbody>\n",
              "</table>\n",
              "</div>"
            ],
            "text/plain": [
              "   Id  ...                                               Text\n",
              "0   1  ...  I have bought several of the Vitality canned d...\n",
              "1   2  ...  Product arrived labeled as Jumbo Salted Peanut...\n",
              "2   3  ...  This is a confection that has been around a fe...\n",
              "3   4  ...  If you are looking for the secret ingredient i...\n",
              "4   5  ...  Great taffy at a great price.  There was a wid...\n",
              "\n",
              "[5 rows x 10 columns]"
            ]
          },
          "metadata": {
            "tags": []
          },
          "execution_count": 13
        }
      ]
    },
    {
      "cell_type": "code",
      "metadata": {
        "id": "-Rdi8Oz2MCk3"
      },
      "source": [
        "#keeping the Required columns in DF\n",
        "data = file[['Text','Score']]"
      ],
      "execution_count": 24,
      "outputs": []
    },
    {
      "cell_type": "code",
      "metadata": {
        "colab": {
          "base_uri": "https://localhost:8080/",
          "height": 445
        },
        "id": "CbRxhbbA5s-C",
        "outputId": "1d44e367-4e3c-4639-8838-7713b43436ac"
      },
      "source": [
        "pd.set_option('display.max_colwidth',None) #to disp max width of a columns\n",
        "data.sample(5)"
      ],
      "execution_count": 23,
      "outputs": [
        {
          "output_type": "execute_result",
          "data": {
            "text/html": [
              "<div>\n",
              "<style scoped>\n",
              "    .dataframe tbody tr th:only-of-type {\n",
              "        vertical-align: middle;\n",
              "    }\n",
              "\n",
              "    .dataframe tbody tr th {\n",
              "        vertical-align: top;\n",
              "    }\n",
              "\n",
              "    .dataframe thead th {\n",
              "        text-align: right;\n",
              "    }\n",
              "</style>\n",
              "<table border=\"1\" class=\"dataframe\">\n",
              "  <thead>\n",
              "    <tr style=\"text-align: right;\">\n",
              "      <th></th>\n",
              "      <th>Text</th>\n",
              "      <th>Score</th>\n",
              "    </tr>\n",
              "  </thead>\n",
              "  <tbody>\n",
              "    <tr>\n",
              "      <th>266571</th>\n",
              "      <td>This popcorn is delicious, low- fat, low-calorie and gluten free. Most importantly its non GMO, which is difficult to find in popcorn.&lt;br /&gt;&lt;br /&gt;This service is superb! Speedy delivery, excellent service!!</td>\n",
              "      <td>5</td>\n",
              "    </tr>\n",
              "    <tr>\n",
              "      <th>336617</th>\n",
              "      <td>I love this espresso coffee, it makes such a nice cup of espresso with an amazing crema.  It's very consistent and the flavor is smooth, however I have noticed that I get a major headache after drinking an espresso made with this coffee.  I am making it properly with the right amount of coffee so I know it's not that.  It's also not the caffeine since I drink drip coffee almost every day.  That leaves really one thing which is the robusta beans that is blended with arabica to make this coffee.&lt;br /&gt;&lt;br /&gt;Great coffee, just not for me and if anyone else experiences this then it's the robusta beans so just try another 100% arabic blend, it comes out good anyways.</td>\n",
              "      <td>5</td>\n",
              "    </tr>\n",
              "    <tr>\n",
              "      <th>290106</th>\n",
              "      <td>Much better than pre-ground coffee in the can.  The best part was that it was still Folgers...which is good pre-ground or otherwise!</td>\n",
              "      <td>5</td>\n",
              "    </tr>\n",
              "    <tr>\n",
              "      <th>182733</th>\n",
              "      <td>This assortment of cheeses is very mild, and extremely delicious and mouth watering too...The only difference is the age of the cheeses...\"The quality of these cheeses is superb\".I believe you will love them all..Great for the holidays,or year round..and highly recommended 5 star rated...enjoy !!! stewart l  12/03/05.</td>\n",
              "      <td>5</td>\n",
              "    </tr>\n",
              "    <tr>\n",
              "      <th>226668</th>\n",
              "      <td>This was the fourth brand I tried due to my female shorthair cat's frequent vomiting without any sign of hairballs.  She started out with original Cat Chow, then I tried Eukanuba hairball formula, and eventually Science Diet sensitive stomach formula, which was by far the most problematic, causing her to throw up at least once daily.  My vet recommended a natural brand, and a Petsmart employee suggested the Blue Buffalo indoor formula specifically.  That was about three weeks ago, and knock on wood, she hasn't vomited once since.  Not only that, but she's actually become more affectionate now that she's not in a constant state of discomfort and stomach distress.  Her chronic dandruff has also almost completely disappeared, and both of my cats are shedding quite a bit less.  Their coats are softer and shinier than they've ever been before, and to top it all off, since Blue Buffalo has no fillers, they're actually getting full while eating less of it, and are defecating less frequently.  This food was truly a godsend for my sensitive-stomach kitty, and the additional coat benefits were amazing and completely unexpected.  I will offer the warning, however, that although my cats took to BB immediately when it was slowly mixed in with their old food, my mom's cats refuse to eat it.  I recommend buying different flavors one at a time in the smallest quantity available until you make sure you've found one your cat(s) will eat.  Definitely worth the price, especially if, like me, you've been buying expensive Eukanuba or Science Diet already!</td>\n",
              "      <td>5</td>\n",
              "    </tr>\n",
              "  </tbody>\n",
              "</table>\n",
              "</div>"
            ],
            "text/plain": [
              "                                                                                                                                                                                                                                                                                                                                                                                                                                                                                                                                                                                                                                                                                                                                                                                                                                                                                                                                                                                                                                                                                                                                                                                                                                                                                                                                                                                                                                                                                                                                                                                                                           Text  Score\n",
              "266571                                                                                                                                                                                                                                                                                                                                                                                                                                                                                                                                                                                                                                                                                                                                                                                                                                                                                                                                                                                                                                                                                                                                                                                                                                                                                                                                                                                                           This popcorn is delicious, low- fat, low-calorie and gluten free. Most importantly its non GMO, which is difficult to find in popcorn.<br /><br />This service is superb! Speedy delivery, excellent service!!      5\n",
              "336617                                                                                                                                                                                                                                                                                                                                                                                                                                                                                                                                                                                                                                                                                                                                                                                                                                                                                                                            I love this espresso coffee, it makes such a nice cup of espresso with an amazing crema.  It's very consistent and the flavor is smooth, however I have noticed that I get a major headache after drinking an espresso made with this coffee.  I am making it properly with the right amount of coffee so I know it's not that.  It's also not the caffeine since I drink drip coffee almost every day.  That leaves really one thing which is the robusta beans that is blended with arabica to make this coffee.<br /><br />Great coffee, just not for me and if anyone else experiences this then it's the robusta beans so just try another 100% arabic blend, it comes out good anyways.      5\n",
              "290106                                                                                                                                                                                                                                                                                                                                                                                                                                                                                                                                                                                                                                                                                                                                                                                                                                                                                                                                                                                                                                                                                                                                                                                                                                                                                                                                                                                                                                                                                     Much better than pre-ground coffee in the can.  The best part was that it was still Folgers...which is good pre-ground or otherwise!      5\n",
              "182733                                                                                                                                                                                                                                                                                                                                                                                                                                                                                                                                                                                                                                                                                                                                                                                                                                                                                                                                                                                                                                                                                                                                                                                                                                                                                          This assortment of cheeses is very mild, and extremely delicious and mouth watering too...The only difference is the age of the cheeses...\"The quality of these cheeses is superb\".I believe you will love them all..Great for the holidays,or year round..and highly recommended 5 star rated...enjoy !!! stewart l  12/03/05.      5\n",
              "226668  This was the fourth brand I tried due to my female shorthair cat's frequent vomiting without any sign of hairballs.  She started out with original Cat Chow, then I tried Eukanuba hairball formula, and eventually Science Diet sensitive stomach formula, which was by far the most problematic, causing her to throw up at least once daily.  My vet recommended a natural brand, and a Petsmart employee suggested the Blue Buffalo indoor formula specifically.  That was about three weeks ago, and knock on wood, she hasn't vomited once since.  Not only that, but she's actually become more affectionate now that she's not in a constant state of discomfort and stomach distress.  Her chronic dandruff has also almost completely disappeared, and both of my cats are shedding quite a bit less.  Their coats are softer and shinier than they've ever been before, and to top it all off, since Blue Buffalo has no fillers, they're actually getting full while eating less of it, and are defecating less frequently.  This food was truly a godsend for my sensitive-stomach kitty, and the additional coat benefits were amazing and completely unexpected.  I will offer the warning, however, that although my cats took to BB immediately when it was slowly mixed in with their old food, my mom's cats refuse to eat it.  I recommend buying different flavors one at a time in the smallest quantity available until you make sure you've found one your cat(s) will eat.  Definitely worth the price, especially if, like me, you've been buying expensive Eukanuba or Science Diet already!      5"
            ]
          },
          "metadata": {
            "tags": []
          },
          "execution_count": 23
        }
      ]
    },
    {
      "cell_type": "markdown",
      "metadata": {
        "id": "S0LdmBqT1xYL"
      },
      "source": [
        "**Here we can see that The Reviews Text have some Noice in them so we will Preprocess the text in a while**"
      ]
    },
    {
      "cell_type": "code",
      "metadata": {
        "id": "i3In4xbX5Ju7"
      },
      "source": [
        "pd.reset_option(\"max_colwidth\") #to reset"
      ],
      "execution_count": 25,
      "outputs": []
    },
    {
      "cell_type": "code",
      "metadata": {
        "id": "bnWESgGTSJjU",
        "colab": {
          "base_uri": "https://localhost:8080/"
        },
        "outputId": "20419636-0f71-4915-fe19-cd4f5812e253"
      },
      "source": [
        "#We have '5' scores for the reviews\n",
        "#We coinsider '1' & '2' as Negative Reviews\n",
        "#we coinsider '4' & '5' as Positive Reviews\n",
        "data['Score'] = data['Score'].map({1:0, 2:0, 4:1, 5:1, 3:3})\n",
        "#We are remove Reviews with Score '3' bcz they are neighter Positive or negative,\n",
        "#they are coinsidered to be Neutral\n",
        "data = data[data['Score']!=3]"
      ],
      "execution_count": 26,
      "outputs": [
        {
          "output_type": "stream",
          "text": [
            "/usr/local/lib/python3.7/dist-packages/ipykernel_launcher.py:4: SettingWithCopyWarning: \n",
            "A value is trying to be set on a copy of a slice from a DataFrame.\n",
            "Try using .loc[row_indexer,col_indexer] = value instead\n",
            "\n",
            "See the caveats in the documentation: https://pandas.pydata.org/pandas-docs/stable/user_guide/indexing.html#returning-a-view-versus-a-copy\n",
            "  after removing the cwd from sys.path.\n"
          ],
          "name": "stderr"
        }
      ]
    },
    {
      "cell_type": "code",
      "metadata": {
        "colab": {
          "base_uri": "https://localhost:8080/"
        },
        "id": "IDTFbYudMCnk",
        "outputId": "b3382acf-0b48-4e4e-8c12-01d02fce02c8"
      },
      "source": [
        "print(\"total no of reviews after removing neutral reviews: {}\".format(len(data)))"
      ],
      "execution_count": 27,
      "outputs": [
        {
          "output_type": "stream",
          "text": [
            "total no of reviews after removing neutral reviews: 525814\n"
          ],
          "name": "stdout"
        }
      ]
    },
    {
      "cell_type": "code",
      "metadata": {
        "colab": {
          "base_uri": "https://localhost:8080/"
        },
        "id": "CJ5HLJ-abptT",
        "outputId": "63d10993-8359-4925-89c8-a33862c9c48a"
      },
      "source": [
        "#Checking and Removing Deplicates if any\n",
        "\n",
        "def removeDup(df):\n",
        "  if df.duplicated().any() == True:\n",
        "    print(\"Found {} duplicated\".format(df.duplicated().sum()))\n",
        "    df.drop_duplicates(inplace=True, ignore_index=True)\n",
        "    print(\"Duplicated removed\")\n",
        "    return df\n",
        "  else:\n",
        "    print(\"Duplicates not found\")\n",
        "    return df\n",
        "\n",
        "data = removeDup(data)"
      ],
      "execution_count": 28,
      "outputs": [
        {
          "output_type": "stream",
          "text": [
            "Found 161973 duplicated\n",
            "Duplicated removed\n"
          ],
          "name": "stdout"
        }
      ]
    },
    {
      "cell_type": "code",
      "metadata": {
        "colab": {
          "base_uri": "https://localhost:8080/"
        },
        "id": "oCL6U4yubp6v",
        "outputId": "32d84dca-7e60-440b-cbe3-2aaf79f743b9"
      },
      "source": [
        "#Checking and removing Null values if any\n",
        "\n",
        "def removeNull(df):\n",
        "  \"\"\" This function will check Null and remove if any \"\"\"\n",
        "  \n",
        "  if df.isnull().any().any() == True:\n",
        "    print(\"Found {} Null Values\".format(df.isnull().sum()))\n",
        "    df.dropna(inplace=True)\n",
        "    print(\"Null Values Dropped\")\n",
        "    return df\n",
        "  else:\n",
        "    print(\"No Null value found\")\n",
        "    return df\n",
        "\n",
        "data = removeNull(data)"
      ],
      "execution_count": 29,
      "outputs": [
        {
          "output_type": "stream",
          "text": [
            "No Null value found\n"
          ],
          "name": "stdout"
        }
      ]
    },
    {
      "cell_type": "code",
      "metadata": {
        "colab": {
          "base_uri": "https://localhost:8080/"
        },
        "id": "AD_IyzpgrlBG",
        "outputId": "0cb712f2-3799-4ab8-adc8-879cdf04135e"
      },
      "source": [
        "#converting our Text column to str and Score column to int type\n",
        "def colConvert(df, column_name, convtotype):\n",
        "  if (df[column_name].map(type)!=convtotype).any() == True:\n",
        "    print(\"Different Row type found\")\n",
        "    df[column_name] = df[column_name].astype(convtotype)\n",
        "    print(\"All Rows are Converted to {}\".format(convtotype) )\n",
        "    return df\n",
        "  else:\n",
        "    print(\"All Rows of type {}\".format(convtotype))\n",
        "    return df \n",
        "\n",
        "data = colConvert(data, 'Text', str)\n",
        "data = colConvert(data, 'Score', int)"
      ],
      "execution_count": 30,
      "outputs": [
        {
          "output_type": "stream",
          "text": [
            "All Rows of type <class 'str'>\n",
            "All Rows of type <class 'int'>\n"
          ],
          "name": "stdout"
        }
      ]
    },
    {
      "cell_type": "code",
      "metadata": {
        "colab": {
          "base_uri": "https://localhost:8080/"
        },
        "id": "G3hpaRUVcBf6",
        "outputId": "6cd4a6fc-4101-4f15-f4d0-0c32cdd28b3d"
      },
      "source": [
        "print(\"Total no of reviews now: {}\".format(len(data)))"
      ],
      "execution_count": 31,
      "outputs": [
        {
          "output_type": "stream",
          "text": [
            "Total no of reviews now: 363841\n"
          ],
          "name": "stdout"
        }
      ]
    },
    {
      "cell_type": "code",
      "metadata": {
        "colab": {
          "base_uri": "https://localhost:8080/"
        },
        "id": "EBrqFATIcLOu",
        "outputId": "bef33995-0f6a-42af-a2a1-e149e0bdbc32"
      },
      "source": [
        "#no of Posive reviews\n",
        "print(\"Positive Reviews:\",len(data[data['Score']==1]))"
      ],
      "execution_count": 32,
      "outputs": [
        {
          "output_type": "stream",
          "text": [
            "Positive Reviews: 306768\n"
          ],
          "name": "stdout"
        }
      ]
    },
    {
      "cell_type": "code",
      "metadata": {
        "colab": {
          "base_uri": "https://localhost:8080/"
        },
        "id": "_0tTXHtPcLYx",
        "outputId": "24e75ed1-0e67-43ec-ef6c-43a5c87a064d"
      },
      "source": [
        "#no of negative reviews\n",
        "neg_rev = len(data[data['Score']==0])\n",
        "print(\"Negative Reviews:\",neg_rev)"
      ],
      "execution_count": 33,
      "outputs": [
        {
          "output_type": "stream",
          "text": [
            "Negative Reviews: 57073\n"
          ],
          "name": "stdout"
        }
      ]
    },
    {
      "cell_type": "markdown",
      "metadata": {
        "id": "L6r_Kt4KfrhA"
      },
      "source": [
        "We can see its a highly imbalance data so we will try to balance it by removing excess positive reviews"
      ]
    },
    {
      "cell_type": "code",
      "metadata": {
        "id": "c6ADV-I9fxHO"
      },
      "source": [
        "# creating Negative Reviews Df \n",
        "negative_review_df = data[data['Score']==0]"
      ],
      "execution_count": 34,
      "outputs": []
    },
    {
      "cell_type": "code",
      "metadata": {
        "id": "0kBBj7UEf3HT"
      },
      "source": [
        "# keeping Positive Reviews Df \n",
        "data = data[data['Score']==1]\n",
        "# keeping same number of Positive Reviews as of negative\n",
        "data = data[:neg_rev]"
      ],
      "execution_count": 35,
      "outputs": []
    },
    {
      "cell_type": "code",
      "metadata": {
        "id": "ylcr1KP5f3Kt"
      },
      "source": [
        "#Adding back to the dataframe\n",
        "data = data.append([negative_review_df], ignore_index=True)"
      ],
      "execution_count": 36,
      "outputs": []
    },
    {
      "cell_type": "code",
      "metadata": {
        "id": "NcDW-_A6i5lv"
      },
      "source": [
        "# shuffle the DataFrame rows\n",
        "data = data.sample(frac = 1)"
      ],
      "execution_count": 37,
      "outputs": []
    },
    {
      "cell_type": "markdown",
      "metadata": {
        "id": "o-_0LM_BIIZJ"
      },
      "source": [
        "Text Preprocessing"
      ]
    },
    {
      "cell_type": "code",
      "metadata": {
        "id": "rx9XUWQjj1hU"
      },
      "source": [
        "#Defining StopWords\n",
        "stopwords= set(['br', 'the', 'i', 'me', 'my', 'myself', 'we', 'our', 'ours', 'ourselves', 'you', \"you're\", \"you've\",\\\n",
        "            \"you'll\", \"you'd\", 'your', 'yours', 'yourself', 'yourselves', 'he', 'him', 'his', 'himself', \\\n",
        "            'she', \"she's\", 'her', 'hers', 'herself', 'it', \"it's\", 'its', 'itself', 'they', 'them', 'their',\\\n",
        "            'theirs', 'themselves', 'what', 'which', 'who', 'whom', 'this', 'that', \"that'll\", 'these', 'those', \\\n",
        "            'am', 'is', 'are', 'was', 'were', 'be', 'been', 'being', 'have', 'has', 'had', 'having', 'do', 'does', \\\n",
        "            'did', 'doing', 'a', 'an', 'the', 'and', 'but', 'if', 'or', 'because', 'as', 'until', 'while', 'of', \\\n",
        "            'at', 'by', 'for', 'with', 'about', 'against', 'between', 'into', 'through', 'during', 'before', 'after',\\\n",
        "            'above', 'below', 'to', 'from', 'up', 'down', 'in', 'out', 'on', 'off', 'over', 'under', 'again', 'further',\\\n",
        "            'then', 'once', 'here', 'there', 'when', 'where', 'why', 'how', 'all', 'any', 'both', 'each', 'few', 'more',\\\n",
        "            'most', 'other', 'some', 'such', 'only', 'own', 'same', 'so', 'than', 'too', 'very', \\\n",
        "            's', 't', 'can', 'will', 'just', 'don', \"don't\", 'should', \"should've\", 'now', 'd', 'll', 'm', 'o', 're', \\\n",
        "            've', 'y', 'ain', 'aren', \"aren't\", 'couldn', \"couldn't\", 'didn', \"didn't\", 'doesn', \"doesn't\", 'hadn',\\\n",
        "            \"hadn't\", 'hasn', \"hasn't\", 'haven', \"haven't\", 'isn', \"isn't\", 'ma', 'mightn', \"mightn't\", 'mustn',\\\n",
        "            \"mustn't\", 'needn', \"needn't\", 'shan', \"shan't\", 'shouldn', \"shouldn't\", 'wasn', \"wasn't\", 'weren', \"weren't\", \\\n",
        "            'won', \"won't\", 'wouldn', \"wouldn't\"])"
      ],
      "execution_count": 38,
      "outputs": []
    },
    {
      "cell_type": "code",
      "metadata": {
        "id": "rtINfpfTcawX"
      },
      "source": [
        "def decontracted(phrase):\n",
        "    # specific\n",
        "    phrase = re.sub(r\"won't\", \"will not\", phrase)\n",
        "    phrase = re.sub(r\"can\\'t\", \"can not\", phrase)\n",
        "\n",
        "    # general\n",
        "    phrase = re.sub(r\"n\\'t\", \" not\", phrase)\n",
        "    phrase = re.sub(r\"\\'re\", \" are\", phrase)\n",
        "    phrase = re.sub(r\"\\'s\", \" is\", phrase)\n",
        "    phrase = re.sub(r\"\\'d\", \" would\", phrase)\n",
        "    phrase = re.sub(r\"\\'ll\", \" will\", phrase)\n",
        "    phrase = re.sub(r\"\\'t\", \" not\", phrase)\n",
        "    phrase = re.sub(r\"\\'ve\", \" have\", phrase)\n",
        "    phrase = re.sub(r\"\\'m\", \" am\", phrase)\n",
        "    return phrase\n",
        "\n",
        "def text_preprocess(df, text_column_to_preprocess):\n",
        "\n",
        "  from tqdm import tqdm\n",
        "  preprocessed_reviews = []\n",
        "\n",
        "  for sentance in tqdm(df[text_column_to_preprocess].values):\n",
        "      sentance = re.sub(r\"http\\S+\", \"\", sentance)\n",
        "      sentance = BeautifulSoup(sentance, 'lxml').get_text()\n",
        "      sentance = decontracted(sentance)\n",
        "      sentance = re.sub(\"\\S*\\d\\S*\", \"\", sentance).strip()\n",
        "      sentance = re.sub('[^A-Za-z]+', ' ', sentance)\n",
        "      # https://gist.github.com/sebleier/554280\n",
        "      # now using stopwords as of now\n",
        "      sentance = ' '.join(e.lower() for e in sentance.split()) # if e.lower() not in stopwords)\n",
        "      preprocessed_reviews.append(sentance.strip())\n",
        "  \n",
        "  df[text_column_to_preprocess] = preprocessed_reviews\n",
        "  return df"
      ],
      "execution_count": 39,
      "outputs": []
    },
    {
      "cell_type": "code",
      "metadata": {
        "id": "-hyKY0uNfZqk",
        "colab": {
          "base_uri": "https://localhost:8080/"
        },
        "outputId": "86cef174-bd8f-4c19-ef24-eee65e5bd472"
      },
      "source": [
        "preprocessed_reviews = text_preprocess(data, 'Text')"
      ],
      "execution_count": 40,
      "outputs": [
        {
          "output_type": "stream",
          "text": [
            "100%|██████████| 114146/114146 [00:51<00:00, 2214.22it/s]\n"
          ],
          "name": "stderr"
        }
      ]
    },
    {
      "cell_type": "code",
      "metadata": {
        "colab": {
          "base_uri": "https://localhost:8080/",
          "height": 358
        },
        "id": "-Q3Rpk3whXzW",
        "outputId": "930ec897-69a4-48dd-9135-8780641be5b4"
      },
      "source": [
        "#Checking for the review text again\n",
        "pd.set_option('display.max_colwidth',None) #to disp max width of columns\n",
        "preprocessed_reviews.sample(5) # To randomly check 5 Rows"
      ],
      "execution_count": 43,
      "outputs": [
        {
          "output_type": "execute_result",
          "data": {
            "text/html": [
              "<div>\n",
              "<style scoped>\n",
              "    .dataframe tbody tr th:only-of-type {\n",
              "        vertical-align: middle;\n",
              "    }\n",
              "\n",
              "    .dataframe tbody tr th {\n",
              "        vertical-align: top;\n",
              "    }\n",
              "\n",
              "    .dataframe thead th {\n",
              "        text-align: right;\n",
              "    }\n",
              "</style>\n",
              "<table border=\"1\" class=\"dataframe\">\n",
              "  <thead>\n",
              "    <tr style=\"text-align: right;\">\n",
              "      <th></th>\n",
              "      <th>Text</th>\n",
              "      <th>Score</th>\n",
              "    </tr>\n",
              "  </thead>\n",
              "  <tbody>\n",
              "    <tr>\n",
              "      <th>11864</th>\n",
              "      <td>this marmalade is so light and tasty on toast sellers are wonderful and pack beautifully also recommend the prickly pear jelly as chicken glaze and prickly pear syrup add a bit to homemade lemonade and enjoy</td>\n",
              "      <td>1</td>\n",
              "    </tr>\n",
              "    <tr>\n",
              "      <th>65110</th>\n",
              "      <td>these noodles just arrived yesterday and i now know the secret of their weight loss properties they will have you throwing up all night i ate some of these for dinner last night and though i did not really like them i thought i could at least tolerate them but i started feeling very full after i would eaten a small ammount which i thought was a good thing at the time and ended up waking up at this morning with intense stomach pain nausea and vomiting i have never had stomach pain this intense in my life and i have a very strong stomach so this was a horrible shock i would never buy or reccomend this to anyone ever</td>\n",
              "      <td>0</td>\n",
              "    </tr>\n",
              "    <tr>\n",
              "      <th>95685</th>\n",
              "      <td>this stuff has an off smell i did not even bother using it i am going with wabash since the little sample of coconut oil i got with their popcorn maker actually smells extremely pleasant not this stuff and they are supposed to be the same coconut oil with a touch of coloring</td>\n",
              "      <td>0</td>\n",
              "    </tr>\n",
              "    <tr>\n",
              "      <th>7920</th>\n",
              "      <td>these are incredible eating these makes me not want to eat candy i love these the price is not that great though i think blue diamond should save money by packaging them in something cheaper than plastic i did notice it on amazon in a box but the price looks odd over too bad amazon does not stock this so no free shipping</td>\n",
              "      <td>1</td>\n",
              "    </tr>\n",
              "    <tr>\n",
              "      <th>58425</th>\n",
              "      <td>if this was called medium roast i would give it stars it is a good coffee but this is called french vanilla caramel and this review is based on the product is name let me say that vanilla and caramel are perhaps my favorite flavors coffee ice cream candy you name it if it is vanilla or caramel i love it with the exception of this where is the vanilla where is the caramel and do not get me wrong i am not trying to say that the flavors are too mild i am saying that they are non existent and therefore based on the name this coffee gets star</td>\n",
              "      <td>0</td>\n",
              "    </tr>\n",
              "  </tbody>\n",
              "</table>\n",
              "</div>"
            ],
            "text/plain": [
              "                                                                                                                                                                                                                                                                                                                                                                                                                                                                                                                                                                                                                                                Text  Score\n",
              "11864                                                                                                                                                                                                                                                                                                                                                                                                                                this marmalade is so light and tasty on toast sellers are wonderful and pack beautifully also recommend the prickly pear jelly as chicken glaze and prickly pear syrup add a bit to homemade lemonade and enjoy      1\n",
              "65110  these noodles just arrived yesterday and i now know the secret of their weight loss properties they will have you throwing up all night i ate some of these for dinner last night and though i did not really like them i thought i could at least tolerate them but i started feeling very full after i would eaten a small ammount which i thought was a good thing at the time and ended up waking up at this morning with intense stomach pain nausea and vomiting i have never had stomach pain this intense in my life and i have a very strong stomach so this was a horrible shock i would never buy or reccomend this to anyone ever      0\n",
              "95685                                                                                                                                                                                                                                                                                                                                                            this stuff has an off smell i did not even bother using it i am going with wabash since the little sample of coconut oil i got with their popcorn maker actually smells extremely pleasant not this stuff and they are supposed to be the same coconut oil with a touch of coloring      0\n",
              "7920                                                                                                                                                                                                                                                                                                              these are incredible eating these makes me not want to eat candy i love these the price is not that great though i think blue diamond should save money by packaging them in something cheaper than plastic i did notice it on amazon in a box but the price looks odd over too bad amazon does not stock this so no free shipping      1\n",
              "58425                                                                                if this was called medium roast i would give it stars it is a good coffee but this is called french vanilla caramel and this review is based on the product is name let me say that vanilla and caramel are perhaps my favorite flavors coffee ice cream candy you name it if it is vanilla or caramel i love it with the exception of this where is the vanilla where is the caramel and do not get me wrong i am not trying to say that the flavors are too mild i am saying that they are non existent and therefore based on the name this coffee gets star      0"
            ]
          },
          "metadata": {
            "tags": []
          },
          "execution_count": 43
        }
      ]
    },
    {
      "cell_type": "code",
      "metadata": {
        "id": "HThNWHCJ6Tlm"
      },
      "source": [
        "pd.reset_option(\"max_colwidth\") #to reset"
      ],
      "execution_count": 44,
      "outputs": []
    },
    {
      "cell_type": "markdown",
      "metadata": {
        "id": "Hz5lVXmo4EKi"
      },
      "source": [
        "**Noice has been removed from the text**"
      ]
    },
    {
      "cell_type": "code",
      "metadata": {
        "id": "Lgp21KhJiPsl"
      },
      "source": [
        "preprocessed_reviews.to_csv('data/preprocessed_reviews.csv', index=False )"
      ],
      "execution_count": 45,
      "outputs": []
    },
    {
      "cell_type": "code",
      "metadata": {
        "id": "fM19BdAN6fWk"
      },
      "source": [
        ""
      ],
      "execution_count": null,
      "outputs": []
    }
  ]
}